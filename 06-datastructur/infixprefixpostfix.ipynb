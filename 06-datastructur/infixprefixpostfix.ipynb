{
 "cells": [
  {
   "cell_type": "code",
   "execution_count": 9,
   "metadata": {},
   "outputs": [
    {
     "name": "stdout",
     "output_type": "stream",
     "text": [
      "A B * C D * +\n",
      "A B + C * D E - F G + * -\n",
      "A B + C D + *\n",
      "A B + C *\n",
      "A B C * +\n"
     ]
    }
   ],
   "source": [
    "# Latihan 6.6 #\n",
    "\n",
    "# import Stack dari pustaka pythonds.basic.stack\n",
    "from pythonds.basic.stack import Stack\n",
    "\n",
    "# buat fungsi infixToPostfix untuk menerima ekspresi infix\n",
    "def infixToPostfix(infixexpr):\n",
    "    # tetapkan prioritas operator\n",
    "    prec = {}\n",
    "    prec[\"*\"] = 3\n",
    "    prec[\"/\"] = 3\n",
    "    prec[\"+\"] = 2\n",
    "    prec[\"-\"] = 2\n",
    "    prec[\"(\"] = 1\n",
    "    # buat tumpukan untuk menyimpan operator\n",
    "    opStack = Stack()\n",
    "    # buat list kosong untuk menyimpan ekspresi postfix\n",
    "    postfixList = []\n",
    "    # pisahkan ekspresi infix menjadi token-token\n",
    "    tokenList = infixexpr.split()\n",
    "\n",
    "    # lakukan perulangan melalui token-token dalam tokenList\n",
    "    for token in tokenList:\n",
    "        # jika token adalah huruf atau angka, tambahkan ke postfixList\n",
    "        if token in \"ABCDEFGHIJKLMNOPQRSTUVWXYZ\" or token in \"0123456789\":\n",
    "            postfixList.append(token)\n",
    "        # jika token adalah tanda kurung buka, masukkan ke opStack\n",
    "        elif token == '(':\n",
    "            opStack.push(token)\n",
    "        # jika token adalah tanda kurung tutup, maka\n",
    "        elif token == ')':\n",
    "            # pop operator dari opStack dan tambahkan ke postfixList sampai menemukan tanda kurung buka yang sesuai\n",
    "            topToken = opStack.pop()\n",
    "            while topToken != '(':\n",
    "                postfixList.append(topToken)\n",
    "                topToken = opStack.pop()\n",
    "        # jika token adalah operator, maka\n",
    "        else:\n",
    "            # pop operator dari opStack dan tambahkan ke postfixList jika operator yang baru memiliki prioritas lebih rendah\n",
    "            while (not opStack.isEmpty()) and \\\n",
    "                  (prec[opStack.peek()] >= prec[token]):\n",
    "                postfixList.append(opStack.pop())\n",
    "            # masukkan operator ke opStack\n",
    "            opStack.push(token)\n",
    "\n",
    "    # pop semua operator dari opStack dan tambahkan ke postfixList\n",
    "    while not opStack.isEmpty():\n",
    "        postfixList.append(opStack.pop())\n",
    "    # gabungkan token-token dalam postfixList menjadi satu string dengan spasi di antara token-tokennya\n",
    "    return \" \".join(postfixList)\n",
    "\n",
    "# tes fungsi infixToPostfix dengan beberapa ekspresi infix\n",
    "print(infixToPostfix(\"A * B + C * D\"))\n",
    "print(infixToPostfix(\"( A + B ) * C - ( D - E ) * ( F + G )\"))\n",
    "print(infixToPostfix(\"( A + B ) * ( C + D )\"))\n",
    "print(infixToPostfix(\"( A + B ) * C\"))\n",
    "print(infixToPostfix(\"A + B * C\"))"
   ]
  },
  {
   "cell_type": "code",
   "execution_count": 12,
   "metadata": {},
   "outputs": [
    {
     "name": "stdout",
     "output_type": "stream",
     "text": [
      "3.0\n"
     ]
    }
   ],
   "source": [
    "from pythonds.basic.stack import Stack  # import Stack dari modul pythonds.basic.stack\n",
    "\n",
    "def postfixEval(postfixExpr):  # buat fungsi postfixEval dengan parameter postfixExpr\n",
    "    operandStack = Stack()  # buat sebuah tumpukan untuk menyimpan operand\n",
    "    tokenList = postfixExpr.split()  # pisahkan ekspresi postfix menjadi daftar token\n",
    "\n",
    "    for token in tokenList:  # lakukan perulangan melalui setiap token dalam daftar token\n",
    "        if token in \"0123456789\":  # jika token adalah operand (bilangan), maka:\n",
    "            operandStack.push(int(token))  # ubah token menjadi integer dan masukkan ke dalam tumpukan\n",
    "        else:  # jika token adalah operator, maka:\n",
    "            operand2 = operandStack.pop()  # ambil operand kedua dari tumpukan\n",
    "            operand1 = operandStack.pop()  # ambil operand pertama dari tumpukan\n",
    "            result = doMath(token, operand1, operand2)  # hitung hasil operasi menggunakan fungsi doMath\n",
    "            operandStack.push(result)  # masukkan hasil perhitungan ke dalam tumpukan\n",
    "    return operandStack.pop()  # simpan hasil evaluasi terakhir dari tumpukan\n",
    "\n",
    "def doMath(op, op1, op2):  # buat fungsi doMath untuk melakukan operasi matematika\n",
    "    if op == \"*\":  # jika operator adalah perkalian, maka:\n",
    "        return op1 * op2  # simpan hasil perkalian operand1 dan operand2\n",
    "    elif op == \"/\":  # jika operator adalah pembagian, maka:\n",
    "        return op1 / op2  # simpan hasil pembagian operand1 dengan operand2\n",
    "    elif op == \"+\":  # jika operator adalah penambahan, maka:\n",
    "        return op1 + op2  # simpan hasil penambahan operand1 dan operand2\n",
    "    else:  # jika operator adalah pengurangan, maka:\n",
    "        return op1 - op2  # simpan hasil pengurangan operand1 dengan operand2\n",
    "\n",
    "print(postfixEval('7 8 + 3 2 + /'))  # tampilkan hasil evaluasi ekspresi postfix tersebut"
   ]
  }
 ],
 "metadata": {
  "kernelspec": {
   "display_name": "Python 3",
   "language": "python",
   "name": "python3"
  },
  "language_info": {
   "codemirror_mode": {
    "name": "ipython",
    "version": 3
   },
   "file_extension": ".py",
   "mimetype": "text/x-python",
   "name": "python",
   "nbconvert_exporter": "python",
   "pygments_lexer": "ipython3",
   "version": "3.11.5"
  }
 },
 "nbformat": 4,
 "nbformat_minor": 2
}
