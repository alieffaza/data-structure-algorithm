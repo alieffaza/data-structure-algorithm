{
 "cells": [
  {
   "cell_type": "code",
   "execution_count": 21,
   "metadata": {},
   "outputs": [
    {
     "name": "stdout",
     "output_type": "stream",
     "text": [
      "Hasil operasi kubik pada array adalah 2038477350.\n",
      "Waktu eksekusi: 17.9035701751709 detik.\n"
     ]
    }
   ],
   "source": [
    "import time\n",
    "\n",
    "def algoritmaKubik(arr):\n",
    "    start = time.time()\n",
    "    n = len(arr)\n",
    "    hasil = 0\n",
    "\n",
    "    for i in range(n):\n",
    "        for j in range(i, n):\n",
    "            for k in range(j, n):\n",
    "                hasil += arr[i] + arr[j] + arr[k]\n",
    "\n",
    "    end = time.time()\n",
    "    return hasil, end - start\n",
    "\n",
    "ukuranArray = 300\n",
    "\n",
    "array = [i for i in range(ukuranArray)]\n",
    "\n",
    "hasil, waktu = algoritmaKubik(array)\n",
    "\n",
    "print(f\"Hasil operasi kubik pada array adalah {hasil}.\")\n",
    "print(f\"Waktu eksekusi: {waktu} detik.\")"
   ]
  }
 ],
 "metadata": {
  "kernelspec": {
   "display_name": "Python 3",
   "language": "python",
   "name": "python3"
  },
  "language_info": {
   "codemirror_mode": {
    "name": "ipython",
    "version": 3
   },
   "file_extension": ".py",
   "mimetype": "text/x-python",
   "name": "python",
   "nbconvert_exporter": "python",
   "pygments_lexer": "ipython3",
   "version": "3.11.5"
  }
 },
 "nbformat": 4,
 "nbformat_minor": 2
}
