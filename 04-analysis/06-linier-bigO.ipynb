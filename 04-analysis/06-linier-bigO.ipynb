{
 "cells": [
  {
   "cell_type": "code",
   "execution_count": 48,
   "metadata": {},
   "outputs": [
    {
     "name": "stdout",
     "output_type": "stream",
     "text": [
      "Jumlah elemen dalam matriks adalah 900.\n",
      "Waktu eksekusi: 0.0 detik.\n",
      "Jumlah elemen dalam matriks adalah 122500.\n",
      "Waktu eksekusi: 0.0009980201721191406 detik.\n",
      "Jumlah elemen dalam matriks adalah 990000.\n",
      "Waktu eksekusi: 0.0019998550415039062 detik.\n",
      "Jumlah elemen dalam matriks adalah 3352500.\n",
      "Waktu eksekusi: 0.0036025047302246094 detik.\n",
      "Jumlah elemen dalam matriks adalah 7960000.\n",
      "Waktu eksekusi: 0.0055696964263916016 detik.\n"
     ]
    }
   ],
   "source": [
    "import time\n",
    "\n",
    "def elemenMatrix(matrix):\n",
    "    start = time.time()\n",
    "    total = 0\n",
    "\n",
    "    for baris in matrix:\n",
    "        for elemen in baris:\n",
    "            total += elemen\n",
    "\n",
    "    end = time.time()\n",
    "    return total, end - start\n",
    "\n",
    "ukuranMatrix = 10\n",
    "\n",
    "matrix = [[i+j for j in range(ukuranMatrix)] for i in range(ukuranMatrix)]\n",
    "\n",
    "jumlahElemen, waktu = elemenMatrix(matrix)\n",
    "\n",
    "print(f\"Jumlah elemen dalam matriks adalah {jumlahElemen}.\")\n",
    "print(f\"Waktu eksekusi: {waktu} detik.\")\n",
    "\n",
    "ukuranMatrix = 50\n",
    "\n",
    "matrix = [[i+j for j in range(ukuranMatrix)] for i in range(ukuranMatrix)]\n",
    "\n",
    "jumlahElemen, waktu = elemenMatrix(matrix)\n",
    "\n",
    "print(f\"Jumlah elemen dalam matriks adalah {jumlahElemen}.\")\n",
    "print(f\"Waktu eksekusi: {waktu} detik.\")\n",
    "\n",
    "ukuranMatrix = 100\n",
    "\n",
    "matrix = [[i+j for j in range(ukuranMatrix)] for i in range(ukuranMatrix)]\n",
    "\n",
    "jumlahElemen, waktu = elemenMatrix(matrix)\n",
    "\n",
    "print(f\"Jumlah elemen dalam matriks adalah {jumlahElemen}.\")\n",
    "print(f\"Waktu eksekusi: {waktu} detik.\")\n",
    "\n",
    "ukuranMatrix = 150\n",
    "\n",
    "matrix = [[i+j for j in range(ukuranMatrix)] for i in range(ukuranMatrix)]\n",
    "\n",
    "jumlahElemen, waktu = elemenMatrix(matrix)\n",
    "\n",
    "print(f\"Jumlah elemen dalam matriks adalah {jumlahElemen}.\")\n",
    "print(f\"Waktu eksekusi: {waktu} detik.\")\n",
    "\n",
    "ukuranMatrix = 200\n",
    "\n",
    "matrix = [[i+j for j in range(ukuranMatrix)] for i in range(ukuranMatrix)]\n",
    "\n",
    "jumlahElemen, waktu = elemenMatrix(matrix)\n",
    "\n",
    "print(f\"Jumlah elemen dalam matriks adalah {jumlahElemen}.\")\n",
    "print(f\"Waktu eksekusi: {waktu} detik.\")"
   ]
  }
 ],
 "metadata": {
  "kernelspec": {
   "display_name": "Python 3",
   "language": "python",
   "name": "python3"
  },
  "language_info": {
   "name": "python",
   "version": "3.11.5"
  }
 },
 "nbformat": 4,
 "nbformat_minor": 2
}
