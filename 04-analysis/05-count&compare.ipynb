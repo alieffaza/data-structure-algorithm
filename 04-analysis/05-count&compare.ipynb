{
 "cells": [
  {
   "cell_type": "code",
   "execution_count": 1,
   "metadata": {},
   "outputs": [
    {
     "name": "stdout",
     "output_type": "stream",
     "text": [
      "True\n",
      "True\n",
      "False\n"
     ]
    }
   ],
   "source": [
    "# Latihan 4.7 #\n",
    "\n",
    "#buat fungsi untuk mengecek anagram dengan 2 parameter input: \n",
    "def anagramSolution4(s1,s2): \n",
    "    c1 = [0]*26 #buat list berisi angka 0 sebanyak 26\n",
    "    c2 = [0]*26 #buat list berisi angka 0 sebanyak 26\n",
    "\n",
    "    #lakukan perulangan setiap karakter pada s1:\n",
    "    for i in range(len(s1)): \n",
    "        #gunakan fungsi ord untuk mengkonversi menjadi unicode,\n",
    "        #lalu hitung selisih dari s1[i] - 'a' untuk menentukan indexnya:\n",
    "        pos = ord(s1[i])-ord('a')\n",
    "        #tambahkan nilai '1' ke index c1:\n",
    "        c1[pos] = c1[pos] + 1\n",
    "    \n",
    "    #lakukan perulangan setiap karakter pada s2:\n",
    "    for i in range(len (s2)):\n",
    "        #gunakan fungsi ord untuk mengkonversi menjadi unicode,\n",
    "        #lalu hitung selisih dari s2[i] - 'a' untuk menentukan indexnya:\n",
    "        pos = ord(s2[i])-ord('a')\n",
    "        #tambahkan nilai '1' ke index c2:\n",
    "        c2[pos] = c2[pos] + 1\n",
    "    \n",
    "    j = 0 #nilai awal untuk variable perulangan\n",
    "    stillOK = True #nilai awal variable untuk mengecek anagram\n",
    "    #jika j lebih kecil dari 26 (index c1 & c2),\n",
    "    #dan kondisi var stillOK true, maka:\n",
    "    while j<26 and stillOK: \n",
    "        #jika karakter c1 & c2 dalam index j sama, maka:\n",
    "        if c1[j] == c2[j]:\n",
    "            #tambahkan 1 untuk mengecek karakter selanjutnya:\n",
    "            j = j+ 1\n",
    "        #jika karakter c1 & c2 dalam index j tidak sama, maka:\n",
    "        else:\n",
    "            #ubah var stillOK menjadi false\n",
    "            stillOK = False\n",
    "    return stillOK #nilai akhir var stillOk\n",
    "\n",
    "print(anagramSolution4('apple', 'pleap'))   #tampilkan apakah kedua inputan merupakan anagram\n",
    "print(anagramSolution4('orange', 'ngerao')) #tampilkan apakah kedua inputan merupakan anagram\n",
    "print(anagramSolution4('apple', 'durian'))  #tampilkan apakah kedua inputan merupakan anagram"
   ]
  }
 ],
 "metadata": {
  "kernelspec": {
   "display_name": "Python 3",
   "language": "python",
   "name": "python3"
  },
  "language_info": {
   "codemirror_mode": {
    "name": "ipython",
    "version": 3
   },
   "file_extension": ".py",
   "mimetype": "text/x-python",
   "name": "python",
   "nbconvert_exporter": "python",
   "pygments_lexer": "ipython3",
   "version": "3.11.5"
  }
 },
 "nbformat": 4,
 "nbformat_minor": 2
}
