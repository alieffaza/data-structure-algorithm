{
 "cells": [
  {
   "cell_type": "code",
   "execution_count": null,
   "metadata": {},
   "outputs": [],
   "source": [
    "# Latihan 2.1 #\n",
    "\n",
    "a = 11 #variabel\n",
    "b = 19 #variabel\n",
    "\n",
    "print(a+b*4)   #operasi aritmatika penjumlahan dan perkalian\n",
    "print((a+b)+4) #operasi aritmatika penjumlahan dan perkalian (penjumlahan dikerjakan lebih dulu)\n",
    "print(a**10)   #operasi aritmatika pemangkatan\n",
    "print(a/3)     #operasi aritmatika pembagian\n",
    "print(b/3)     #operasi aritmatika pembagian\n",
    "print(a//b)    #operasi aritmatika pembagian bulat\n",
    "print(a%b)     #operasi aritmatika modulus/sisa bagi\n",
    "print(a/b)     #operasi aritmatika pembagian\n",
    "print(a//b)    #operasi aritmatika pembagian bulat\n",
    "print(a%b)     #operasi aritmatika modulus/sisa bagi\n",
    "print(b**100)  #operasi aritmatika pemangkatan"
   ]
  },
  {
   "cell_type": "code",
   "execution_count": null,
   "metadata": {},
   "outputs": [],
   "source": [
    "# Latihan 2.2 #\n",
    "\n",
    "a = 11 #variable\n",
    "b = 19 #variable\n",
    "print (a==b)  #operasi perbandingan\n",
    "print (b > a) #operasi perbandingan\n",
    "print ((b >= 1) and (b <= 10)) #operasi perbandingan dan logika"
   ]
  },
  {
   "cell_type": "code",
   "execution_count": null,
   "metadata": {},
   "outputs": [],
   "source": [
    "# Latihan 2.2 #\n",
    "\n",
    "print(b != 20)               \n",
    "print((b > 10) and (b < 20))\n",
    "print((b >= 1) or (b <= 10))\n",
    "print(not b >= 1)"
   ]
  },
  {
   "cell_type": "code",
   "execution_count": null,
   "metadata": {},
   "outputs": [],
   "source": [
    "# Latihan 2.3 #\n",
    "\n",
    "MyNim = str (2311102441109) #konversi variable menjadi string\n",
    "\n",
    "MyNim_10th = MyNim[9]  #memanggil index ke-9 dari variable tersebut\n",
    "MyNim_11th = MyNim[-3] #memanggil index ke-3 dari belakang variable tersebut\n",
    "i = 11\n",
    "MyNim_12th = MyNim[i]   #memanggil index ke-i (11)\n",
    "MyNim_13th = MyNim[i+1] #memanggil index ke-i+1 (12)\n",
    "a = int(MyNim_10th + MyNim_11th)   #konversi variable menjadi integer \n",
    "b = float(MyNim_12th + MyNim_13th) #konversi variable menjadi float \n",
    "\n",
    "print(MyNim)\n",
    "print(MyNim_10th)\n",
    "print(MyNim_11th)\n",
    "print(MyNim_12th)\n",
    "print(MyNim_13th)\n",
    "print(a)\n",
    "print(\"nilai float b =\", b)"
   ]
  },
  {
   "cell_type": "code",
   "execution_count": null,
   "metadata": {},
   "outputs": [],
   "source": [
    "# Latihan 2.4 #\n",
    "\n",
    "MyList = [1, 3, True, 6.5] #buat list\n",
    "print(MyList)  #tampilkan list tersebut\n",
    "A = [MyList]*3 #tampilkan list 3x\n",
    "print(A)       #tampilkan list\n",
    "MyList[2] = 45 #ganti item pada index ke-2 dengan '45' \n",
    "print(A)       #tampilkan list\n",
    "\n",
    "myList_A = [1024, 3, True, 6.5] #buat list\n",
    "myList_A.append(False)  #masukan 'false' ke dalam list\n",
    "print(myList_A)         #tampilkan list\n",
    "myList_A.insert(2, 4.5) #masukan '4.5' ke dalam list pada index ke-2\n",
    "print(myList_A)         #tampilkan list\n",
    "print(myList_A.pop())   #hapus item terakhir pada list\n",
    "print(myList_A)         #tampilkan list\n",
    "print(myList_A.pop(1))  #hapus item dengan index ke-1 dari list\n",
    "print(myList_A)         #tampilkan list\n",
    "myList_A.pop(2)         #hapus item dengan index ke-2 dari list\n",
    "print(myList_A)         #tampilkan list\n",
    "myList_A.sort ()        #urutkan list dari item terkecil\n",
    "print(myList_A)         #tampilkan list\n",
    "myList_A.reverse()      #urutkan list dari item terbesar\n",
    "print(myList_A)         #tampilkan list\n",
    "print(myList_A.count(6.5)) #cari index dari item '6.5'\n",
    "print(myList_A.index(4.5)) #cari index dari item '4.5'\n",
    "myList_A.remove(6.5) #hapus '6.5' dari list\n",
    "print(myList_A) #tampilkan list\n",
    "del myList_A[0] #hapus item index ke-0 dari list\n",
    "print(myList_A) #tampilkan list"
   ]
  },
  {
   "cell_type": "code",
   "execution_count": null,
   "metadata": {},
   "outputs": [],
   "source": [
    "# Latihan 2.4 #\n",
    "\n",
    "MyList = [1, 3, True, 6.5]      #buat list\n",
    "myList_A = [1024, 3, True, 6.5] #buat list\n",
    "print(MyList + myList_A) #manipulasi list dengan operator +\n",
    "print(len(MyList))       #hitung item pada list Mylist dengan len\n",
    "print(MyList[0:2])       #tampilkan item index ke-0 sampai ke-1 dari list MyList"
   ]
  },
  {
   "cell_type": "code",
   "execution_count": null,
   "metadata": {},
   "outputs": [],
   "source": [
    "# Latihan 2.5 #\n",
    "\n",
    "print(\"Berikut ini adalah hasil contoh fragment dari (54).__add__(21) : In\", (54).__add__(21)) #operasi dengan method add\n",
    "print(range(10))              #membuat range dari 0 sampai 9\n",
    "print(list(range(10)))        #konversi range tersebut menjadi list\n",
    "print(list(range(5, 10)))     #membuat list dari range ke-5 sampai ke-9\n",
    "print(list(range(5, 15, 3)))  #membuat list dati range ke-5 sampai ke-14 namun loncati setiap 3 angka\n",
    "print(list(range(10, 1, -1))) #buat list dari range ke-10 sampai ke-2 dan tampilkan terbalik\n",
    "\n",
    "myName = \"Alief Faza Rizqi Adi Jaya\" #variable \n",
    "print(len(myName))       #hitung panjang karakter pada variable tersebut\n",
    "print(myName[3])         #tampilkan karakter dengan index ke-3\n",
    "print(list(myName))      #konversi variable tersebut menjadi list\n",
    "print(myName.upper())    #konversi semua karakter menjadi kapital\n",
    "print(myName.center(10)) #posisikan variable tersebut ke tengah (centered)\n",
    "print(myName.find('a'))  #cari index pertama dari karakter 'a'\n",
    "print(myName.split('a')) #bagi variable tersebut berdasarkan karakter 'a'"
   ]
  },
  {
   "cell_type": "code",
   "execution_count": null,
   "metadata": {},
   "outputs": [],
   "source": [
    "# Latihan 2.5 #\n",
    " \n",
    "myName = \"Alief Faza Rizqi Adi Jaya\" #variable\n",
    "print(myName.count('a'))    #hitung jumlah 'a' pada variable tersebut\n",
    "print(myName.ljust(10))     #posisikan variable tersebut ke kiri\n",
    "print(myName.rjust(50))     #posisikan variable tersebut ke kanan"
   ]
  },
  {
   "cell_type": "code",
   "execution_count": null,
   "metadata": {},
   "outputs": [],
   "source": [
    "# Latihan 2.6 #\n",
    "\n",
    "myTuple = (2, True, 4.96) #tuple\n",
    "print(myTuple)       \n",
    "print(len(myTuple))  #hitung item di dalam tuple tersebut\n",
    "print(myTuple[0])    #tampilkan item pada index ke-0\n",
    "print(myTuple*3)     #tampilkan item pada tuple tersebut 3x\n",
    "print(myTuple [0:2]) #tampilkan item pada index ke-0 sampai ke-1"
   ]
  },
  {
   "cell_type": "code",
   "execution_count": null,
   "metadata": {},
   "outputs": [],
   "source": [
    "# Latihan 2.7 #\n",
    "\n",
    "MySet = {3,6, \"kucing\", 4.5, False}\n",
    "print(MySet)\n",
    "print(len(MySet))\n",
    "print(False in MySet)\n",
    "print(\"cat\" in MySet)\n",
    "YourSet = {99, 3, 100, \"kuda\"}\n",
    "print(MySet.union(YourSet))\n",
    "print(MySet | YourSet)\n",
    "print(MySet.intersection(YourSet))\n",
    "print(MySet & YourSet)\n",
    "print(MySet.difference(YourSet))\n",
    "print(MySet - YourSet)\n",
    "print({3,100}.issubset(YourSet))\n",
    "print({3,100}<=YourSet)\n",
    "MySet.add(\"rumah\")\n",
    "print(MySet)\n",
    "MySet.remove(4.5)\n",
    "print(MySet)\n",
    "print(MySet.pop())\n",
    "print(MySet)\n",
    "MySet.clear()\n",
    "print(MySet)"
   ]
  },
  {
   "cell_type": "code",
   "execution_count": null,
   "metadata": {},
   "outputs": [],
   "source": [
    "# Latihan 2.8 #\n",
    "\n",
    "capitals = {'KalTim':'Samarinda', 'Bali':'Denpasar'} #buat dictionary\n",
    "print(capitals['KalTim']) #tampilkan item di dalam dictionary dengan key 'kalTim'\n",
    "\n",
    "capitals['JaTim']='Surabaya' #tampilkan item di dalam dictionary dengan key 'jaTim'\n",
    "print(capitals)\n",
    "\n",
    "capitals['KalSel']='Banjarmasin' #tampilkan item di dalam dictionary dengan key 'kalSel'\n",
    "print(len (capitals) )\n",
    "\n",
    "for k in capitals: #perulangan sesuai item pada dictionary tersebut\n",
    "    print(capitals[k], \"adalah ibukota dari\", k)"
   ]
  },
  {
   "cell_type": "code",
   "execution_count": null,
   "metadata": {},
   "outputs": [],
   "source": [
    "# Latihan 2.8 #\n",
    "\n",
    "biodata = {'Nama':'Faza', 'nim':'2311102441109'} #buat dictionary\n",
    "print(biodata['nim']) #tampilkan item di dalam dictionary dengan key 'nim'\n",
    "\n",
    "bilangan = {'phi':3.14} #buat dictionary\n",
    "print(bilangan['phi'])  #tampilkan item di dalam dictionary dengan key 'phi'"
   ]
  },
  {
   "cell_type": "code",
   "execution_count": null,
   "metadata": {},
   "outputs": [],
   "source": [
    "# Latihan 2.9 #\n",
    "\n",
    "aName = input(\"Nama lengkap saya adalah :\") #buat input\n",
    "#konversikan inputan menjadi huruf kapital dan hitung panjang karakter inputan\n",
    "print(\"Huruf kapital untuk nama anda\", aName.upper(), \"dan mempunyai karakter sebanyak\", len(aName)) "
   ]
  },
  {
   "cell_type": "code",
   "execution_count": null,
   "metadata": {},
   "outputs": [],
   "source": [
    "# Latihan 2.10 #\n",
    "\n",
    "sisiKubus = input(\"Input nilai sisi persegi\") #input\n",
    "sisi = float(sisiKubus)           #konversi nilai sisi kubus menjadi float\n",
    "luas = 2 * sisi                   #hitung luas dengan operasi aritmatika\n",
    "print(\"Luas persegi yaitu\", luas) #tampilkan hasil"
   ]
  },
  {
   "cell_type": "code",
   "execution_count": null,
   "metadata": {},
   "outputs": [],
   "source": [
    "# Latihan 2.11 #\n",
    "\n",
    "aName = input(\"Nama: \") #input\n",
    "myNim = input(\"Nim: \")  #input\n",
    "\n",
    "print(aName, myNim) #tampilkan nama dan nim\n",
    "print(aName, myNim, sep=\"-\" , end=\".\") #tampilkan nama dan nim, dipisah dengan '-' dan diakhiri '.'"
   ]
  },
  {
   "cell_type": "code",
   "execution_count": null,
   "metadata": {},
   "outputs": [],
   "source": [
    "# Latihan 2.12 #\n",
    "\n",
    "price = 5800    #variable\n",
    "item = \"pisang\" #variable \n",
    "print(\"Harga sebuah %s adalah %d rupiah\" %(item,price))            #tampilkan variable dengan formatting\n",
    "print(\"Harga sebuah %+10s adalah %5.2f rupiah\" %(item,price))      #tampilkan variable dengan formatting\n",
    "print(\"Harga sebuah %+10s adalah %10.2f rupiah\" %(item,price))     #tampilkan variable dengan formatting\n",
    "itemdict = {\"item\":\"pisang\", \"harga\":6800}                         #buat dictionary\n",
    "print(\"Harga sebuah %(item)s adalah %(harga)7.1f rupiah\" %itemdict) #tampilkan dictionary tersebut"
   ]
  }
 ],
 "metadata": {
  "kernelspec": {
   "display_name": "Python 3",
   "language": "python",
   "name": "python3"
  },
  "language_info": {
   "codemirror_mode": {
    "name": "ipython",
    "version": 3
   },
   "file_extension": ".py",
   "mimetype": "text/x-python",
   "name": "python",
   "nbconvert_exporter": "python",
   "pygments_lexer": "ipython3",
   "version": "3.11.5"
  }
 },
 "nbformat": 4,
 "nbformat_minor": 2
}
