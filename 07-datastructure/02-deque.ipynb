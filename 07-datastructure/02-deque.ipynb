{
 "cells": [
  {
   "cell_type": "code",
   "execution_count": 1,
   "metadata": {},
   "outputs": [
    {
     "name": "stdout",
     "output_type": "stream",
     "text": [
      "True\n",
      "4\n",
      "False\n",
      "8.4\n",
      "True\n"
     ]
    }
   ],
   "source": [
    "# Latihan 7.4 #\n",
    "\n",
    "class Deque:\n",
    "  def __init__(self):\n",
    "    self.items = []\n",
    "\n",
    "  def isEmpty(self):\n",
    "    return self.items == []\n",
    "\n",
    "  def addFront(self, item):\n",
    "    self.items.append(item)\n",
    "\n",
    "  def addRear(self, item):\n",
    "    self.items.insert(0,item)\n",
    "\n",
    "  def removeFront(self):\n",
    "    return self.items.pop()\n",
    "\n",
    "  def removeRear(self):\n",
    "    return self.items.pop(0)\n",
    "\n",
    "  def size(self):\n",
    "    return len(self.items)\n",
    "\n",
    "d = Deque()\n",
    "print(d.isEmpty())\n",
    "d.addRear(4)\n",
    "d.addRear('dog')\n",
    "d.addFront('cat')\n",
    "d.addFront(True)\n",
    "print(d.size())\n",
    "print(d.isEmpty())\n",
    "d.addRear(8.4)\n",
    "print(d.removeRear())\n",
    "print(d.removeFront())"
   ]
  },
  {
   "cell_type": "code",
   "execution_count": 3,
   "metadata": {},
   "outputs": [
    {
     "name": "stdout",
     "output_type": "stream",
     "text": [
      "False\n",
      "True\n"
     ]
    }
   ],
   "source": [
    "# Latihan 7.5 #\n",
    "\n",
    "from pythonds.basic.deque import Deque\n",
    "\n",
    "def palchecker(aString):\n",
    "    chardeque = Deque()\n",
    "\n",
    "    for ch in aString:\n",
    "        chardeque.addRear(ch)\n",
    "\n",
    "    stillEqual = True\n",
    "\n",
    "    while chardeque.size() > 1 and stillEqual:\n",
    "        first = chardeque.removeFront()\n",
    "        last = chardeque.removeRear()\n",
    "        if first != last:\n",
    "            stillEqual = False\n",
    "\n",
    "    return stillEqual\n",
    "\n",
    "print(palchecker(\"lsdkjfskf\"))\n",
    "print(palchecker(\"radar\"))"
   ]
  }
 ],
 "metadata": {
  "kernelspec": {
   "display_name": "Python 3",
   "language": "python",
   "name": "python3"
  },
  "language_info": {
   "codemirror_mode": {
    "name": "ipython",
    "version": 3
   },
   "file_extension": ".py",
   "mimetype": "text/x-python",
   "name": "python",
   "nbconvert_exporter": "python",
   "pygments_lexer": "ipython3",
   "version": "3.11.5"
  }
 },
 "nbformat": 4,
 "nbformat_minor": 2
}
