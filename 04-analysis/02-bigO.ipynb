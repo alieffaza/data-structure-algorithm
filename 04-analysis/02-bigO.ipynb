{
 "cells": [
  {
   "cell_type": "code",
   "execution_count": null,
   "metadata": {},
   "outputs": [
    {
     "ename": "",
     "evalue": "",
     "output_type": "error",
     "traceback": [
      "\u001b[1;31mFailed to start the Kernel. \n",
      "\u001b[1;31mUnable to start Kernel 'Python 3.11.5' due to a connection timeout. \n",
      "\u001b[1;31mView Jupyter <a href='command:jupyter.viewOutput'>log</a> for further details."
     ]
    }
   ],
   "source": [
    "# Latihan 4.4 #\n",
    "\n",
    "import time\n",
    "\n",
    "def sumOfY(n):\n",
    "    start = time.time()\n",
    "    theSum = 0\n",
    "    for i in range(n):\n",
    "        for j in range(n):\n",
    "            theSum = theSum + i * j\n",
    "    end = time.time ()\n",
    "    return theSum, end-start\n",
    "\n",
    "print(\"Hasil sumOfY(1000) adalah %d membutuhkan waktu %0.3f detik\" %sumOfY(1000))\n",
    "print(\"Hasil sumOfY(2000) adalah %d membutuhkan waktu %0.3f detik\" %sumOfY(2000))\n",
    "print(\"Hasil sumOfY(3000) adalah %d membutuhkan waktu %0.3f detik\" %sumOfY(3000))\n",
    "print(\"Hasil sumOfY(4000) adalah %d membutuhkan waktu %0.3f detik\" %sumOfY(4000))\n",
    "print(\"Hasil sumOfY(5000) adalah %d membutuhkan waktu %0.3f detik\" %sumOfY(5000))\n",
    "print(\"Hasil sumOfY(6000) adalah %d membutuhkan waktu %0.3f detik\" %sumOfY(6000))\n",
    "print(\"Hasil sumOfY(7000) adalah %d membutuhkan waktu %0.3f detik\" %sumOfY(7000))\n",
    "print(\"Hasil sumOfY(8000) adalah %d membutuhkan waktu %0.3f detik\" %sumOfY(8000))\n",
    "print(\"Hasil sumOfY(9000) adalah %d membutuhkan waktu %0.3f detik\" %sumOfY(9000))\n",
    "print(\"Hasil sumOfY(10000) adalah %d membutuhkan waktu %0.3f detik\" %sumOfY(10000))"
   ]
  }
 ],
 "metadata": {
  "kernelspec": {
   "display_name": "Python 3",
   "language": "python",
   "name": "python3"
  },
  "language_info": {
   "codemirror_mode": {
    "name": "ipython",
    "version": 3
   },
   "file_extension": ".py",
   "mimetype": "text/x-python",
   "name": "python",
   "nbconvert_exporter": "python",
   "pygments_lexer": "ipython3",
   "version": "3.11.5"
  }
 },
 "nbformat": 4,
 "nbformat_minor": 2
}
