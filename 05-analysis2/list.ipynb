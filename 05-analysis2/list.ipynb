{
 "cells": [
  {
   "cell_type": "code",
   "execution_count": null,
   "metadata": {},
   "outputs": [],
   "source": [
    "# Latihan 5.1 #\n",
    "\n",
    "from timeit import Timer\n",
    "\n",
    "def test1():\n",
    "  l = []\n",
    "  for i in range(1000):\n",
    "    l = l + [i]\n",
    "\n",
    "def test2():\n",
    "  l = []\n",
    "  for i in range(1000):\n",
    "    l.append(i)\n",
    "\n",
    "def test3():\n",
    "  l = [i for i in range (1000)]\n",
    "\n",
    "def test4():\n",
    "  l = list(range(1000))\n",
    "\n",
    "t1 = Timer(\"test1()\", \"from __main__ import test1\")\n",
    "print(\"concat        :\",t1.timeit(number=1000), \"milliseconds\")\n",
    "\n",
    "t2 = Timer(\"test2()\", \"from __main__ import test2\")\n",
    "print(\"append        :\",t2.timeit(number=1000), \"milliseconds\")\n",
    "\n",
    "t3 = Timer(\"test3()\", \"from __main__ import test3\")\n",
    "print(\"comprehension :\",t3.timeit(number=1000), \"milliseconds\")\n",
    "\n",
    "t4 = Timer(\"test4()\", \"from __main__ import test4\")\n",
    "print(\"list range    :\",t4.timeit(number=1000), \"milliseconds\")"
   ]
  },
  {
   "cell_type": "code",
   "execution_count": null,
   "metadata": {},
   "outputs": [],
   "source": [
    "# Latihan 5.2 #\n",
    "\n",
    "from timeit import Timer\n",
    "\n",
    "popzero = Timer(\"x.pop(0)\",\n",
    "                       \"from __main__ import x\")\n",
    "popend = Timer(\"x.pop()\",\n",
    "                       \"from __main__ import x\")\n",
    "\n",
    "x = list(range(2000000))\n",
    "popend.timeit(number=1000)\n"
   ]
  },
  {
   "cell_type": "code",
   "execution_count": null,
   "metadata": {},
   "outputs": [],
   "source": [
    "# Latihan 5.3 #\n",
    "\n",
    "from timeit import Timer\n",
    "\n",
    "popzero = Timer(\"x.pop(0)\",\n",
    "                \"from __main__ import x\")\n",
    "popend = Timer(\"x.pop()\",\n",
    "               \"from __main__ import x\")\n",
    "print(\"No        pop(0)           pop()\")\n",
    "\n",
    "p = 0\n",
    "for i in range(1000000,100000001,1000000):\n",
    "    p = p + 1\n",
    "    x = list(range(i))\n",
    "    pt = popend.timeit(number=100)\n",
    "    x = list(range(i))\n",
    "    pz = popzero.timeit(number=100)\n",
    "    print(\"%d %15.5f, %15.5f\" %(p,pz,pt))"
   ]
  },
  {
   "cell_type": "code",
   "execution_count": null,
   "metadata": {},
   "outputs": [],
   "source": [
    "# Latihan  5.4 #\n",
    "\n",
    "import timeit #import module timeit untuk menghitung waktu eksekusi\n",
    "import random #imporT modulE random untuk menampilkan nilai acak\n",
    "\n",
    "#lakukan perulangan i dengan range dari 10000 sampai 500000 dilangkahi seiap 20000:\n",
    "for i in range(10000,500001,20000): \n",
    "    #Buat objek Timer untuk mengukur waktu eksekusi dari operasi pencarian elemen acak dalam list x:\n",
    "    t = timeit.Timer(\"random.randrange(%d) in x\"%i,\n",
    "                     \"from __main__ import random,x\")\n",
    "\n",
    "    #buat list 'x' dengan range 'i':\n",
    "    x = list(range(i))\n",
    "    #buat variable lst_time untuk mengeksekusi pencarian acak pada list 'x' sebanyak 1000x:\n",
    "    lst_time = t.timeit(number=1000)\n",
    "    #buat dictionary 'x' dengan range 'i' dengan value 'none':\n",
    "    x = {j:None for j in range(i)}\n",
    "    #buat variable d_time untuk mengeksekusi pencarian acak pada list 'x' sebanyak 1000x:\n",
    "    d_time = t.timeit(number=1000)\n",
    "    #tampilkan hasil perulangan i, variable lst_time dan variable d_time\n",
    "    print(\"%d,%10.3f,%10.3f\" % (i, lst_time, d_time))"
   ]
  }
 ],
 "metadata": {
  "kernelspec": {
   "display_name": "Python 3",
   "language": "python",
   "name": "python3"
  },
  "language_info": {
   "codemirror_mode": {
    "name": "ipython",
    "version": 3
   },
   "file_extension": ".py",
   "mimetype": "text/x-python",
   "name": "python",
   "nbconvert_exporter": "python",
   "pygments_lexer": "ipython3",
   "version": "3.11.5"
  }
 },
 "nbformat": 4,
 "nbformat_minor": 2
}
