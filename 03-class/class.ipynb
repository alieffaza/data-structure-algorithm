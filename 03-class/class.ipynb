{
 "cells": [
  {
   "cell_type": "code",
   "execution_count": null,
   "metadata": {},
   "outputs": [],
   "source": [
    "# Latihan 3.1 #\n",
    "\n",
    "counter = 1 #variable\n",
    "while counter <= 5: #lakukan perulangan jika counter bernilai dibawah atau sama dengan 5\n",
    "    print(\"Halo, NIM saya : 2311102441109\") #tampilkan pada perulangan tersebut\n",
    "    counter = counter + 1 #tambahkan nilai 1 ke variable ketika sudah dieksekusi"
   ]
  },
  {
   "cell_type": "code",
   "execution_count": null,
   "metadata": {},
   "outputs": [],
   "source": [
    "# Latihan 3.2 #\n",
    "\n",
    "counter = 0 #variable counter dengan nilai 0\n",
    "while counter < 10: #lakukan perulangan jika nilai variable counter lebih rendah dari 10\n",
    "    print(counter, \"Kurang dari 10\") #tampilkan pada perulangan\n",
    "    counter = counter + 1 #tambahkan nilai 1 ke variable ketika sudah dieksekusi\n",
    "else: #jika nilai counter sudah sama dengan 10, maka:\n",
    "    print(counter,\"Sama dengan 10\") #tampilkan pada output"
   ]
  },
  {
   "cell_type": "code",
   "execution_count": null,
   "metadata": {},
   "outputs": [],
   "source": [
    "# Latihan 3.3 #\n",
    "\n",
    "daftarkata = ['saya', 'anda', 'dia'] #buat list daftarkata\n",
    "daftarhuruf = [] #buat list kosong\n",
    "for setiapkata in daftarkata: #lakukan perulangan pada setiapkata pada list daftarkata tersebut\n",
    "    for setiaphuruf in setiapkata: #lakukan perulangan pada setiaphuruf pada setiapkata tersebut\n",
    "        daftarhuruf.append(setiaphuruf) #tambahkan setiaphuruf tersebut ke dalam list daftarhuruf\n",
    "print(daftarhuruf) #tampilkan list daftarhuruf"
   ]
  },
  {
   "cell_type": "code",
   "execution_count": null,
   "metadata": {},
   "outputs": [],
   "source": [
    "# Latihan 3.4 #\n",
    "\n",
    "import math #import module math\n",
    "\n",
    "n = int(input(\"Masukan nilai :\")) #buat variable input bertipe integer\n",
    "print(\"Nilai inputan:\", n) #tampilkan nilai inputan\n",
    "if n < 0: #jika nilai n lebih kecil dari 0, maka: \n",
    "    print(\"Maaf, nilai yang diinput adalah negatif\") #tampilkan peringatan ini\n",
    "else: #jika nilai n lebih besar dari 0, maka:\n",
    "    print(math.sqrt(n)) #lakukan perhitungan nilai akar kuadrat menggunakan modul math"
   ]
  },
  {
   "cell_type": "code",
   "execution_count": null,
   "metadata": {},
   "outputs": [],
   "source": [
    "# Latihan 3.5 #\n",
    "\n",
    "score = int(input(\"Masukan nilai anda: \")) #buat variable input dengan tipe integer\n",
    "print(\"Nilai anda:\", score) #tampilkan nilai yang sudah di input\n",
    "\n",
    "if score >= 90: #jika nilai inputan >= 90, maka:\n",
    "    print('A')  #tampilkan 'A'\n",
    "else: #jika nilai input < 90, maka:\n",
    "    if score >= 80: #jika nilai inputan >= 80, maka:\n",
    "        print('B')  #tampilkan 'B'\n",
    "    else: #jika nilai input < 80, maka:\n",
    "        if score >= 70: #jika nilai inputan >= 70, maka:\n",
    "            print('C')  #tampilkan 'C'\n",
    "        else: #jika nilai input < 70, maka:\n",
    "            if score >= 60: #jika nilai inputan >= 60, maka:\n",
    "                print('D') #tampilkan 'D'\n",
    "            else: #jika nilai input < 60, maka:\n",
    "                print('F') #tampilkan 'F'"
   ]
  },
  {
   "cell_type": "code",
   "execution_count": null,
   "metadata": {},
   "outputs": [],
   "source": [
    "# Latihan 3.5 #\n",
    "\n",
    "score = int(input(\"Masukan nilai anda :\")) #buat variable input dengan tipe integer\n",
    "print(\"Nilai anda:\", score) #tampilkan nilai yang sudah di input\n",
    "\n",
    "if score >= 90:   #jika nilai inputan >= 90, maka:\n",
    "    print('A')    #tampilkan 'A'\n",
    "elif score >= 80: #jika nilai inputan >= 80, maka:\n",
    "    print('B')    #tampilkan 'B'\n",
    "elif score >= 70: #jika nilai inputan >= 70, maka:\n",
    "    print('C')    #tampilkan 'C'\n",
    "elif score >= 60: #jika nilai inputan >= 60, maka:\n",
    "    print('D')    #tampilkan 'D'\n",
    "else:             #jika nilai inputan < 60, maka:\n",
    "    print('F')    #tampilkan 'F'"
   ]
  },
  {
   "cell_type": "code",
   "execution_count": null,
   "metadata": {},
   "outputs": [],
   "source": [
    "# Latihan 3.5 #\n",
    "\n",
    "SQlist = [] #buat list SQlist (kosong)\n",
    "for x in range(1,11):  #buat perulangan dengan range 1 - 11\n",
    "    SQlist.append(x*x) #masukan hasil perulangan nilai x*x ke dalam list SQlist\n",
    "print(SQlist) #tampilkan list SQlist\n",
    "\n",
    "STlist = [x*x for x in range(1,11)] #buat list STlist yang berisi hasil x*x dengan range 1 - 11\n",
    "print(STlist) #tampilkan list STlist"
   ]
  },
  {
   "cell_type": "code",
   "execution_count": null,
   "metadata": {},
   "outputs": [],
   "source": [
    "# Latihan 3.5 #\n",
    "\n",
    "listS = [] #buat list S (kosong)\n",
    "for x in range(0,10): #buat perulangan dengan range 0 - 11\n",
    "    listS.append(x*x) #masukan hasil perulangan nilai x*x ke dalam list S\n",
    "print(\"S =\",listS)    #tampilkan list S\n",
    "\n",
    "listV = [] #buat list V (kosong)\n",
    "for x in range(0,13):  #buat perulangan dengan range 0 - 11\n",
    "    listV.append(2**x) #masukan hasil perulangan nilai x*x ke dalam list V\n",
    "print(\"V =\",listV)     #tampilkan list V\n",
    "\n",
    "listM = [] #buat list M (kosong)\n",
    "for x in range(0,5): #buat perulangan dengan range 0 - 11\n",
    "    listM.append(x*2) #masukan hasil perulangan nilai x*x ke dalam list M\n",
    "print(\"M =\",listM)    #tampilkan list M"
   ]
  },
  {
   "cell_type": "code",
   "execution_count": null,
   "metadata": {},
   "outputs": [],
   "source": [
    "# Latihan 3.6 #\n",
    "\n",
    "#buat list 'namatanpakonsonan'\n",
    "#dalam list tersebut buat perulangan dari \"alief faza rizqi adi jaya\"\n",
    "#tampilkan list tersebut tanpa huruf 'aiueo' dengan operator keanggotaan\n",
    "#jadikan perulangan tersebut huruf kapital menggunakan method upper()\n",
    "namatanpakonsonan = [ch.upper() for ch in \"alief faza rizqi adi jaya\" if ch not in 'aiueo'] \n",
    "print(namatanpakonsonan) #tampilkan list 'namatanpakonsonan'"
   ]
  },
  {
   "cell_type": "code",
   "execution_count": null,
   "metadata": {},
   "outputs": [],
   "source": [
    "# Latihan 3.7 #\n",
    "\n",
    "import math #import module math\n",
    "\n",
    "anumber = int(input(\"Masukan nilai integer: \")) #buat variable input bertipe integer\n",
    "print(\"Nilai yang diinput =\",anumber) #tampilkan nilai yang diinput ke dalam variable 'anumber'\n",
    "try: #lakukan struktur pengecualian menggunakan try & except\n",
    "    print(math.sqrt(anumber)) #lakukan operasi akar kuadrat dari variable 'anumber'\n",
    "except: #jika perintah tersebut tidak dapat dieksekusi, maka:\n",
    "    print(\"Terjadi error. Masukan nilai positif!\") #tampilkan pesan ini"
   ]
  },
  {
   "cell_type": "code",
   "execution_count": null,
   "metadata": {},
   "outputs": [],
   "source": [
    "# Latihan 3.8 #\n",
    "\n",
    "def kuadrat(n): #buat definition function untuk menghitung kuadrat dengan parameter 'n'\n",
    "    return n**2 #hitung kuadrat n dengan operator aritmatika\n",
    "\n",
    "kuadrat(2311102441109) #gunakan definition function tersebut, hitung nilai NIM sebagai 'n'"
   ]
  },
  {
   "cell_type": "code",
   "execution_count": 35,
   "metadata": {},
   "outputs": [
    {
     "data": {
      "text/plain": [
       "12.56"
      ]
     },
     "execution_count": 35,
     "metadata": {},
     "output_type": "execute_result"
    }
   ],
   "source": [
    "# Latihan 3.8 #\n",
    "\n",
    "def LuasLingkaran(n):   #buat definition function menghitung luas lingkaran dengan parameter 'n' (jari-jari)\n",
    "    return 2 * 3.14 * n #gunakan rumus menghitung luas lingkaran\n",
    "\n",
    "LuasLingkaran(2) #tampilkan hasil perhitungan menggunakan definiton function tersebut, dimana n = 2"
   ]
  },
  {
   "cell_type": "code",
   "execution_count": 36,
   "metadata": {},
   "outputs": [
    {
     "data": {
      "text/plain": [
       "60.0"
      ]
     },
     "execution_count": 36,
     "metadata": {},
     "output_type": "execute_result"
    }
   ],
   "source": [
    "# Latihan 3.8 #\n",
    "\n",
    "def LuasSegitiga(a,t): #buat definition function menghitung luas lingkaran dengan parameter 'a' (alas) & 't' (tinggi)\n",
    "    return (a * t) /2  #gunakan rumus menghitung luas segitiga\n",
    "LuasSegitiga(12,10)    #tampilkan hasil perhitungan menggunakan definiton function tersebut"
   ]
  },
  {
   "cell_type": "code",
   "execution_count": 37,
   "metadata": {},
   "outputs": [
    {
     "name": "stdout",
     "output_type": "stream",
     "text": [
      "<__main__.Fraksi object at 0x000001CAA56A3090>\n"
     ]
    }
   ],
   "source": [
    "# Latihan 3.9 #\n",
    "\n",
    "class Fraksi: #\n",
    "\n",
    "    def __init__(self,top,bottom):\n",
    "    \n",
    "        self.num = top\n",
    "        self.den = bottom\n",
    "\n",
    "myFraksi = Fraksi(3,5)\n",
    "print(myFraksi)        "
   ]
  },
  {
   "cell_type": "code",
   "execution_count": 42,
   "metadata": {},
   "outputs": [
    {
     "name": "stdout",
     "output_type": "stream",
     "text": [
      "3/5\n"
     ]
    }
   ],
   "source": [
    "# Latihan 3.10 #\n",
    "class Fraksi:\n",
    "    def __init__(self,top,bottom):\n",
    "        self.num = top\n",
    "        self.den = bottom\n",
    "\n",
    "    def show(self):\n",
    "        print(self.num,\"/\",self.den)\n",
    "\n",
    "    def __str__(self):\n",
    "        return str(self.num)+\"/\"+str(self.den)\n",
    "\n",
    "myFraksi = Fraksi(3,5)\n",
    "print(myFraksi)"
   ]
  },
  {
   "cell_type": "code",
   "execution_count": null,
   "metadata": {},
   "outputs": [
    {
     "name": "stdout",
     "output_type": "stream",
     "text": [
      "3/5\n",
      "3/5\n",
      "Saya makan 3/5 dari kue hamparan tatak\n"
     ]
    }
   ],
   "source": [
    "# Latihan 3.11 #\n",
    "class Fraksi:\n",
    "    def __init__(self,top,bottom):\n",
    "        self.num = top\n",
    "        self.den = bottom\n",
    "\n",
    "    def show(self):\n",
    "        print(self.num,\"/\",self.den)\n",
    "\n",
    "    def __str__(self):\n",
    "        return str(self.num)+\"/\"+str(self.den)\n",
    "\n",
    "    def __add__(self,otherfraction):\n",
    "        newnum = self.num * otherfraction.den + self.den * otherfraction.num\n",
    "        newden = self.den * otherfraction.den\n",
    "\n",
    "myFraksi = Fraksi(3,5)\n",
    "print(myFraksi)\n",
    "\n",
    "myf = Fraksi(3,5)\n",
    "print(myf)\n",
    "print(\"Saya makan\", myf, \"dari kue hamparan tatak\")"
   ]
  },
  {
   "cell_type": "code",
   "execution_count": 56,
   "metadata": {},
   "outputs": [
    {
     "name": "stdout",
     "output_type": "stream",
     "text": [
      "3/5\n",
      "3/5\n",
      "Saya makan 3/5 dari kue hamparan tatak\n",
      "None\n"
     ]
    }
   ],
   "source": [
    "# Latihan 3.12 #\n",
    "class Fraksi:\n",
    "    def __init__(self,top,bottom):\n",
    "        self.num = top\n",
    "        self.den = bottom\n",
    "\n",
    "    def show(self):\n",
    "        print(self.num,\"/\",self.den)\n",
    "\n",
    "    def __str__(self):\n",
    "        return str(self.num)+\"/\"+str(self.den)\n",
    "    \n",
    "    def __add__(self,otherfraction):\n",
    "        newnum = self.num * otherfraction.den + self.den * otherfraction.num\n",
    "        newden = self.den * otherfraction.den\n",
    "\n",
    "myFraksi = Fraksi(3,5)\n",
    "print(myFraksi)\n",
    "\n",
    "myf = Fraksi(3,5)\n",
    "print(myf)\n",
    "print(\"Saya makan\", myf, \"dari kue hamparan tatak\")\n",
    "\n",
    "f1 = Fraksi(1,4)\n",
    "f2 = Fraksi(1,2)\n",
    "print(f1+f2)"
   ]
  },
  {
   "cell_type": "code",
   "execution_count": 59,
   "metadata": {},
   "outputs": [
    {
     "name": "stdout",
     "output_type": "stream",
     "text": [
      "3/5\n",
      "3/5\n",
      "Saya makan 3/5 dari kue hamparan tatak\n",
      "3/4\n"
     ]
    }
   ],
   "source": [
    "# Latihan 3.13 #\n",
    "class Fraksi:\n",
    "    def __init__(self,top,bottom):\n",
    "        self.num = top\n",
    "        self.den = bottom\n",
    "\n",
    "    def show(self):\n",
    "        print(self.num,\"/\",self.den)\n",
    "\n",
    "    def __str__(self):\n",
    "        return str(self.num)+\"/\"+str(self.den)\n",
    "    \n",
    "    def __add__(self,otherfraction):\n",
    "        newnum = self.num * otherfraction.den + self.den * otherfraction.num\n",
    "        newden = self.den * otherfraction.den\n",
    "        \n",
    "        common = gcd(newnum,newden) \n",
    "        return Fraksi(newnum//common,newden//common)\n",
    "\n",
    "def gcd(m,n):\n",
    "    while m % n != 0:\n",
    "        oldm = m\n",
    "        oldn = n\n",
    "        \n",
    "        m = oldn\n",
    "        n = oldm % oldn\n",
    "    return n \n",
    "    \n",
    "myFraksi = Fraksi(3,5)\n",
    "print(myFraksi)\n",
    "\n",
    "myf = Fraksi(3,5)\n",
    "print(myf)\n",
    "print(\"Saya makan\", myf, \"dari kue hamparan tatak\")\n",
    "\n",
    "f1 = Fraksi(1,4)\n",
    "f2 = Fraksi(1,2)\n",
    "print(f1+f2)"
   ]
  },
  {
   "cell_type": "code",
   "execution_count": 60,
   "metadata": {},
   "outputs": [
    {
     "name": "stdout",
     "output_type": "stream",
     "text": [
      "3/5\n",
      "3/5\n",
      "Saya makan 3/5 dari kue hamparan tatak\n",
      "3/4\n",
      "7/6\n",
      "False\n"
     ]
    }
   ],
   "source": [
    "# Latihan 3.14 #\n",
    "class Fraksi:\n",
    "    def __init__(self,top,bottom):\n",
    "        self.num = top\n",
    "        self.den = bottom\n",
    "\n",
    "    def show(self):\n",
    "        print(self.num,\"/\",self.den)\n",
    "\n",
    "    def __str__(self):\n",
    "        return str(self.num)+\"/\"+str(self.den)\n",
    "    \n",
    "    def __add__(self,otherfraction):\n",
    "        newnum = self.num * otherfraction.den + self.den * otherfraction.num\n",
    "        newden = self.den * otherfraction.den\n",
    "        \n",
    "        common = gcd(newnum,newden) \n",
    "        return Fraksi(newnum//common,newden//common)\n",
    "        \n",
    "    def __eq__(self,other):\n",
    "        firstnum = self.num * other.den\n",
    "        secondnum = other.num * self.den\n",
    "\n",
    "        return firstnum == secondnum\n",
    "\n",
    "def gcd(m,n):\n",
    "    while m % n != 0:\n",
    "        oldm = m\n",
    "        oldn = n\n",
    "        \n",
    "        m = oldn\n",
    "        n = oldm % oldn\n",
    "    return n \n",
    "    \n",
    "myFraksi = Fraksi(3,5)\n",
    "print(myFraksi)\n",
    "\n",
    "myf = Fraksi(3,5)\n",
    "print(myf)\n",
    "print(\"Saya makan\", myf, \"dari kue hamparan tatak\")\n",
    "\n",
    "f1 = Fraksi(1,4)\n",
    "f2 = Fraksi(1,2)\n",
    "print(f1+f2)\n",
    "\n",
    "x = Fraksi(1,2)\n",
    "y = Fraksi(2,3)\n",
    "print(x + y)\n",
    "print(x == y)"
   ]
  }
 ],
 "metadata": {
  "kernelspec": {
   "display_name": "Python 3",
   "language": "python",
   "name": "python3"
  },
  "language_info": {
   "codemirror_mode": {
    "name": "ipython",
    "version": 3
   },
   "file_extension": ".py",
   "mimetype": "text/x-python",
   "name": "python",
   "nbconvert_exporter": "python",
   "pygments_lexer": "ipython3",
   "version": "3.11.5"
  }
 },
 "nbformat": 4,
 "nbformat_minor": 2
}
