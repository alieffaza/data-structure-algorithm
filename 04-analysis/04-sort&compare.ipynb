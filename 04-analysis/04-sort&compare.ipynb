{
 "cells": [
  {
   "cell_type": "code",
   "execution_count": 1,
   "metadata": {},
   "outputs": [
    {
     "name": "stdout",
     "output_type": "stream",
     "text": [
      "True\n",
      "False\n",
      "False\n"
     ]
    }
   ],
   "source": [
    "# Latihan 4.6 #\n",
    "\n",
    "#buat fungsi untuk mengecek anagram dengan 2 parameter input:\n",
    "def anagramSolution2(s1,s2):\n",
    "    alist1 = list(s1) #konverikan parameter s1 menjadi list\n",
    "    alist2 = list(s2) #konverikan parameter s2 menjadi list\n",
    "\n",
    "    alist1.sort() #urutkan kedua list tersebut\n",
    "    alist2.sort() #urutkan kedua list tersebut\n",
    "    \n",
    "    pos = 0        #nilai awal index untuk perulangan\n",
    "    matches = True #nilai awal untuk mengecek anagram\n",
    "    \n",
    "    #lakukan perulangan jika pos(index) lebih kecil dari panjang s1,\n",
    "    #dan matches masih bernilai false:\n",
    "    while pos < len(s1) and matches: \n",
    "        #jika karakter s1 pada index pos sama\n",
    "        #dengan karakter s2 pada index yang sama, maka:\n",
    "        if alist1[pos]==alist2[pos]: \n",
    "            #tambahkan 1 pada pos untuk mengecek karakter selanjutnya\n",
    "            pos = pos + 1 \n",
    "        else: #jika karakter tidak sama, maka:\n",
    "            matches = False #ubah nilai matches menjadi false\n",
    "    return matches #nilai akhir matches\n",
    "\n",
    "print(anagramSolution2('abcde','edcba')) #tampilkan apakah termasuk anagram\n",
    "print(anagramSolution2('abcde','edcb'))  #tampilkan apakah termasuk anagram\n",
    "print(anagramSolution2('abcde','edfba')) #tampilkan apakah termasuk anagram"
   ]
  }
 ],
 "metadata": {
  "kernelspec": {
   "display_name": "Python 3",
   "language": "python",
   "name": "python3"
  },
  "language_info": {
   "codemirror_mode": {
    "name": "ipython",
    "version": 3
   },
   "file_extension": ".py",
   "mimetype": "text/x-python",
   "name": "python",
   "nbconvert_exporter": "python",
   "pygments_lexer": "ipython3",
   "version": "3.11.5"
  }
 },
 "nbformat": 4,
 "nbformat_minor": 2
}
