{
 "cells": [
  {
   "cell_type": "code",
   "execution_count": 7,
   "metadata": {},
   "outputs": [],
   "source": [
    "# Latihan 6.1 #\n",
    "\n",
    "class Stack:\n",
    "  def __init__(self):\n",
    "    self.items = []\n",
    "\n",
    "  def isEmpty(self):\n",
    "    return self.items == []\n",
    "\n",
    "  def push(self, item):\n",
    "    self.items.append(item)\n",
    "\n",
    "  def pops(self):\n",
    "    return self.items.pop()\n",
    "\n",
    "  def peek(self):\n",
    "    return self.items[len(self.items)-1]\n",
    "\n",
    "  def size(self):\n",
    "    return len(self.items)"
   ]
  },
  {
   "cell_type": "code",
   "execution_count": 3,
   "metadata": {},
   "outputs": [
    {
     "name": "stdout",
     "output_type": "stream",
     "text": [
      "True\n",
      "dog\n",
      "3\n",
      "False\n",
      "8.4\n",
      "True\n",
      "2\n"
     ]
    }
   ],
   "source": [
    "# Latihan 6.1 #\n",
    "\n",
    "from pythonds.basic.stack import Stack\n",
    "\n",
    "s = Stack()\n",
    "\n",
    "print(s.isEmpty())\n",
    "s.push(4)\n",
    "s.push('dog')\n",
    "print(s.peek())\n",
    "s.push(True)\n",
    "print(s.size())\n",
    "print(s.isEmpty())\n",
    "s.push(8.4)\n",
    "print(s.pop())\n",
    "print(s.pop())\n",
    "print(s.size())"
   ]
  },
  {
   "cell_type": "code",
   "execution_count": 19,
   "metadata": {},
   "outputs": [
    {
     "name": "stdout",
     "output_type": "stream",
     "text": [
      "True\n",
      "False\n",
      "False\n",
      "False\n"
     ]
    }
   ],
   "source": [
    "# Latihan 6.2 #\n",
    "\n",
    "from pythonds.basic.stack import Stack\n",
    "\n",
    "def parChecker(symbolString):\n",
    "  s = Stack()\n",
    "  balanced = True\n",
    "  index = 0\n",
    "  while index < len(symbolString) and balanced:\n",
    "    symbol = symbolString[index]\n",
    "    if symbol == \"(\":\n",
    "      s.push(symbol)\n",
    "    else:\n",
    "      if s.isEmpty():\n",
    "        balanced = False\n",
    "      else:\n",
    "        s.pop()\n",
    "\n",
    "    index = index + 1\n",
    "\n",
    "  if balanced and s.isEmpty():\n",
    "    return True\n",
    "  else:\n",
    "    return False\n",
    "\n",
    "print(parChecker('((()))'))\n",
    "print(parChecker('(()'))\n",
    "\n",
    "print(parChecker('{{}'))\n",
    "print(parChecker('{{}}'))"
   ]
  },
  {
   "cell_type": "code",
   "execution_count": 29,
   "metadata": {},
   "outputs": [
    {
     "name": "stdout",
     "output_type": "stream",
     "text": [
      "True\n",
      "False\n"
     ]
    }
   ],
   "source": [
    "# Latihan 6.3 #\n",
    "\n",
    "from pythonds.basic.stack import Stack\n",
    "\n",
    "def parChecker(symbolString):\n",
    "  s = Stack()\n",
    "  balanced = True\n",
    "  index = 0\n",
    "  while index < len(symbolString) and balanced:\n",
    "    symbol = symbolString[index]\n",
    "    if symbol in \"([{\":\n",
    "      s.push(symbol)\n",
    "    else:\n",
    "      if s.isEmpty():\n",
    "        balanced = False\n",
    "      else:\n",
    "        top = s.pop()\n",
    "        if not matches(top,symbol):\n",
    "          balanced = False\n",
    "    index = index + 1\n",
    "  if balanced and s.isEmpty():\n",
    "    return True\n",
    "  else:\n",
    "    return False\n",
    "\n",
    "def matches(open,close):\n",
    "  opens = \"([{\"\n",
    "  closers = \")]}\"\n",
    "  return opens.index(open) == closers.index(close)\n",
    "\n",
    "print(parChecker('{{([][])}()}'))\n",
    "print(parChecker('[{()]'))"
   ]
  },
  {
   "cell_type": "code",
   "execution_count": 11,
   "metadata": {},
   "outputs": [
    {
     "name": "stdout",
     "output_type": "stream",
     "text": [
      "101010\n",
      "110111\n"
     ]
    }
   ],
   "source": [
    "# Latihan 6.4 #\n",
    "\n",
    "from pythonds.basic.stack import Stack\n",
    "\n",
    "def divideBy2(decNumber):\n",
    "  remstack = Stack()\n",
    "\n",
    "  while decNumber > 0:\n",
    "    rem = decNumber % 2\n",
    "    remstack.push(rem)\n",
    "    decNumber = decNumber // 2\n",
    "\n",
    "  binString = \"\"\n",
    "  while not remstack.isEmpty():\n",
    "    binString = binString + str(remstack.pop())\n",
    "\n",
    "  return binString\n",
    "\n",
    "print(divideBy2(42))\n",
    "print(divideBy2(55))"
   ]
  },
  {
   "cell_type": "code",
   "execution_count": 31,
   "metadata": {},
   "outputs": [
    {
     "name": "stdout",
     "output_type": "stream",
     "text": [
      "11001\n",
      "19\n"
     ]
    }
   ],
   "source": [
    "# Latihan 6.5 #\n",
    "\n",
    "from pythonds.basic.stack import Stack\n",
    "\n",
    "def baseConverter(decNumber, base):\n",
    "    digits = \"0123456789ABCDEF\"\n",
    "\n",
    "    remstack = Stack()\n",
    "\n",
    "    while decNumber > 0:\n",
    "        rem = decNumber % base\n",
    "        remstack.push(rem)\n",
    "        decNumber = decNumber // base\n",
    "\n",
    "    newString = \"\"\n",
    "    while not remstack.isEmpty():\n",
    "        newString = newString + digits[remstack.pop()]\n",
    "\n",
    "    return newString\n",
    "\n",
    "print(baseConverter(25, 2))\n",
    "print(baseConverter(25, 16))"
   ]
  }
 ],
 "metadata": {
  "kernelspec": {
   "display_name": "Python 3",
   "language": "python",
   "name": "python3"
  },
  "language_info": {
   "codemirror_mode": {
    "name": "ipython",
    "version": 3
   },
   "file_extension": ".py",
   "mimetype": "text/x-python",
   "name": "python",
   "nbconvert_exporter": "python",
   "pygments_lexer": "ipython3",
   "version": "3.11.5"
  }
 },
 "nbformat": 4,
 "nbformat_minor": 2
}
