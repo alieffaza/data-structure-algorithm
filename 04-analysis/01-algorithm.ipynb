{
 "cells": [
  {
   "cell_type": "code",
   "execution_count": null,
   "metadata": {},
   "outputs": [],
   "source": [
    "# Latihan 4.1 #\n",
    "\n",
    "def foo(joko):\n",
    "    agus = 0\n",
    "    for dini in range(1, joko+1):\n",
    "        ayu = dini\n",
    "        agus = agus + ayu\n",
    "    return agus\n",
    "print(foo(10))"
   ]
  },
  {
   "cell_type": "code",
   "execution_count": null,
   "metadata": {},
   "outputs": [],
   "source": [
    "# Latihan 4.1 #\n",
    "\n",
    "def sumOfN(n) :\n",
    "    theSum = 0\n",
    "    for i in range(1, n+1):\n",
    "        theSum = theSum + i\n",
    "    return theSum\n",
    "print(sumOfN(10))"
   ]
  },
  {
   "cell_type": "code",
   "execution_count": null,
   "metadata": {},
   "outputs": [],
   "source": [
    "# Latihan 4.2 #\n",
    "\n",
    "import time\n",
    "\n",
    "def sumOfN2(n):\n",
    "    start = time.time()\n",
    "\n",
    "    theSum = 0\n",
    "    for i in range (1,n+1):\n",
    "        theSum = theSum + i\n",
    "\n",
    "    end = time.time()\n",
    "    return theSum, end-start\n",
    "\n",
    "for i in range(5):\n",
    "    print(\"Hasil di soal 4.2a adalah %d membutuhkan waktu %10.7f detik\" %sumOfN2(1000000))"
   ]
  },
  {
   "cell_type": "code",
   "execution_count": null,
   "metadata": {},
   "outputs": [],
   "source": [
    "# Latihan 4.2 #\n",
    "\n",
    "import time\n",
    "\n",
    "def sumOfN2(n):\n",
    "    start = time.time()\n",
    "\n",
    "    theSum = 0\n",
    "    for i in range (1, n+1):\n",
    "        theSum = theSum + i\n",
    "\n",
    "    end = time.time()\n",
    "    return theSum, end-start\n",
    "\n",
    "for i in range(5):\n",
    "    print(\"Hasil di soal 4.2a adalah %d membutuhkan waktu %10.7f detik\" %sumOfN2(10000))\n",
    "\n",
    "for i in range(5):\n",
    "    print(\"Hasil di soal 4.2b adalah %d membutuhkan waktu %10.7f detik\" %sumOfN2(100000))\n",
    "    \n",
    "for i in range(5):\n",
    "    print(\"Hasil di soal 4.2c adalah %d membutuhkan waktu %10.7f detik\" %sumOfN2(1000000))"
   ]
  },
  {
   "cell_type": "code",
   "execution_count": null,
   "metadata": {},
   "outputs": [],
   "source": [
    "# Latihan 4.3 #\n",
    "\n",
    "def sumOFN3(n):\n",
    "    return (n*(n+1))/2\n",
    "\n",
    "print(\"Hasil 10000 iterasi adalah %d\"%sumOFN3(10000))\n",
    "print(\"Hasil 100000 iterasi adalah %d\"%sumOFN3(100000))\n",
    "print(\"Hasil 1000000 iterasi adalah %d\"%sumOFN3(1000000))"
   ]
  },
  {
   "cell_type": "code",
   "execution_count": null,
   "metadata": {},
   "outputs": [],
   "source": [
    "# Latihan 4.3 #\n",
    "\n",
    "import time\n",
    "\n",
    "def sumOfN2(n):\n",
    "    start = time.time()\n",
    "\n",
    "    theSum = 0\n",
    "    for i in range (1, n+1):\n",
    "        theSum = theSum + i\n",
    "\n",
    "    end = time.time()\n",
    "    return theSum, end-start\n",
    "\n",
    "print(\"Hasil di soal 4.2 adalah %d membutuhkan waktu %10.7f detik\" %sumOfN2(1000000))\n",
    "\n",
    "def sumOFN3(n):\n",
    "    start = time.time()\n",
    "    theSum2 = (n*(n+1))/2\n",
    "\n",
    "    end = time.time()\n",
    "    return theSum2, end-start\n",
    "\n",
    "print(\"Hasil di soal 4.3 adalah %d membutuhkan waktu %10.7f detik\" %sumOFN3(1000000))"
   ]
  }
 ],
 "metadata": {
  "kernelspec": {
   "display_name": "Python 3",
   "language": "python",
   "name": "python3"
  },
  "language_info": {
   "codemirror_mode": {
    "name": "ipython",
    "version": 3
   },
   "file_extension": ".py",
   "mimetype": "text/x-python",
   "name": "python",
   "nbconvert_exporter": "python",
   "pygments_lexer": "ipython3",
   "version": "3.11.5"
  }
 },
 "nbformat": 4,
 "nbformat_minor": 2
}
