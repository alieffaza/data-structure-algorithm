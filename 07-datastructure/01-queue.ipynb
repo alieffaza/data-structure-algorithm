{
 "cells": [
  {
   "cell_type": "code",
   "execution_count": 2,
   "metadata": {},
   "outputs": [
    {
     "name": "stdout",
     "output_type": "stream",
     "text": [
      "3\n",
      "False\n",
      "4\n",
      "dog\n",
      "1\n"
     ]
    }
   ],
   "source": [
    "# Latihan 7.1 #\n",
    "\n",
    "class Queue:\n",
    "    def __init__(self):\n",
    "        self.items = []\n",
    "\n",
    "    def isEmpty(self):\n",
    "        return self.items == []\n",
    "\n",
    "    def enqueue(self, item):  # Menambahkan parameter item\n",
    "        self.items.insert(0, item)\n",
    "\n",
    "    def dequeue(self):\n",
    "        return self.items.pop()\n",
    "\n",
    "    def size(self):\n",
    "        return len(self.items)\n",
    "\n",
    "q = Queue()\n",
    "\n",
    "q.enqueue(4)\n",
    "q.enqueue('dog')\n",
    "q.enqueue(True)\n",
    "\n",
    "print(q.size())\n",
    "print(q.isEmpty())\n",
    "print(q.dequeue())\n",
    "print(q.dequeue())\n",
    "print(q.size())"
   ]
  },
  {
   "cell_type": "code",
   "execution_count": 9,
   "metadata": {},
   "outputs": [
    {
     "name": "stdout",
     "output_type": "stream",
     "text": [
      "Susan\n",
      "Kent\n"
     ]
    }
   ],
   "source": [
    "# Latihan 7.2 #\n",
    "\n",
    "from pythonds.basic.queue import Queue\n",
    "\n",
    "def hotPotato(nameList, num):\n",
    "  simqueue = Queue()\n",
    "  for name in nameList:\n",
    "    simqueue.enqueue(name)\n",
    "\n",
    "  while simqueue.size() > 1:\n",
    "    for i in range(num):\n",
    "      simqueue.enqueue(simqueue.dequeue())\n",
    "\n",
    "    simqueue.dequeue()\n",
    "\n",
    "  return simqueue.dequeue()\n",
    "\n",
    "print(hotPotato([\"Bill\",\"David\",\"Susan\",\"Jane\",\"Kent\",\"Brad\"],7))\n",
    "\n",
    "print(hotPotato([\"Bill\",\"David\",\"Susan\",\"Jane\",\"Kent\",\"Brad\"],6))"
   ]
  },
  {
   "cell_type": "code",
   "execution_count": 13,
   "metadata": {},
   "outputs": [
    {
     "name": "stdout",
     "output_type": "stream",
     "text": [
      "Average Wait  36.12 secs 0 tasks remaining.\n",
      "Average Wait 263.06 secs 0 tasks remaining.\n",
      "Average Wait  64.12 secs 0 tasks remaining.\n",
      "Average Wait  60.90 secs 2 tasks remaining.\n",
      "Average Wait 194.43 secs 4 tasks remaining.\n",
      "Average Wait 107.29 secs 5 tasks remaining.\n",
      "Average Wait  68.35 secs 2 tasks remaining.\n",
      "Average Wait  61.53 secs 0 tasks remaining.\n",
      "Average Wait 109.82 secs 0 tasks remaining.\n",
      "Average Wait  61.38 secs 2 tasks remaining.\n"
     ]
    }
   ],
   "source": [
    "# Latihan 7.3 # \n",
    "\n",
    "from pythonds.basic.queue import Queue\n",
    "import random\n",
    "\n",
    "class Printer:\n",
    "    def __init__(self, ppm):\n",
    "        self.pagerate = ppm\n",
    "        self.currentTask = None\n",
    "        self.timeRemaining = 0\n",
    "\n",
    "    def tick(self):\n",
    "        if self.currentTask != None:\n",
    "            self.timeRemaining -= 1\n",
    "            if self.timeRemaining <= 0:\n",
    "                self.currentTask = None\n",
    "\n",
    "    def busy(self):\n",
    "        return self.currentTask != None\n",
    "\n",
    "    def startNext(self, newtask):  \n",
    "        self.currentTask = newtask\n",
    "        self.timeRemaining = newtask.getPages() * 60 / self.pagerate  \n",
    "\n",
    "class Task:\n",
    "    def __init__(self, time):\n",
    "        self.timestamp = time\n",
    "        self.pages = random.randrange(1, 21)\n",
    "\n",
    "    def getStamp(self):\n",
    "        return self.timestamp\n",
    "\n",
    "    def getPages(self):\n",
    "        return self.pages\n",
    "\n",
    "    def waitTime(self, currenttime):\n",
    "        return currenttime - self.timestamp\n",
    "\n",
    "def simulation(numSeconds, pagesPerMinute):\n",
    "    labprinter = Printer(pagesPerMinute)\n",
    "    printQueue = Queue()\n",
    "    waitingtimes = []\n",
    "\n",
    "    for currentSecond in range(numSeconds):\n",
    "        if newPrintTask():\n",
    "            task = Task(currentSecond)  \n",
    "            printQueue.enqueue(task)\n",
    "\n",
    "        if (not labprinter.busy()) and (not printQueue.isEmpty()):\n",
    "            nexttask = printQueue.dequeue()  \n",
    "            waitingtimes.append(nexttask.waitTime(currentSecond))  \n",
    "            labprinter.startNext(nexttask)\n",
    "\n",
    "        labprinter.tick()\n",
    "\n",
    "    averageWait = sum(waitingtimes) / len(waitingtimes)\n",
    "    print(\"Average Wait %6.2f secs %d tasks remaining.\" % (averageWait, printQueue.size()))  \n",
    "\n",
    "def newPrintTask():\n",
    "    num = random.randrange(1, 181)\n",
    "    if num == 180:\n",
    "        return True\n",
    "    else:\n",
    "        return False\n",
    "\n",
    "for i in range(10):\n",
    "    simulation(3600, 5)\n"
   ]
  }
 ],
 "metadata": {
  "kernelspec": {
   "display_name": "Python 3",
   "language": "python",
   "name": "python3"
  },
  "language_info": {
   "codemirror_mode": {
    "name": "ipython",
    "version": 3
   },
   "file_extension": ".py",
   "mimetype": "text/x-python",
   "name": "python",
   "nbconvert_exporter": "python",
   "pygments_lexer": "ipython3",
   "version": "3.11.5"
  }
 },
 "nbformat": 4,
 "nbformat_minor": 2
}
