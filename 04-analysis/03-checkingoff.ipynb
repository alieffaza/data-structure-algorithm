{
 "cells": [
  {
   "cell_type": "code",
   "execution_count": 2,
   "metadata": {},
   "outputs": [
    {
     "name": "stdout",
     "output_type": "stream",
     "text": [
      "True\n",
      "False\n",
      "False\n"
     ]
    }
   ],
   "source": [
    "# Latihan 4.5 #\n",
    "\n",
    "#buat fungsi untuk mengecek anagram dengan 2 parameter inputan:\n",
    "def anagramSolution1(s1,s2): \n",
    "    alist = list(s2) #konversikan nilai s2 menjadi list\n",
    "   \n",
    "    pos1 = 0       #posisi index awal untuk melakukan perulangan karakter\n",
    "    stillOK = True #nilai awal untuk mengecek anagram\n",
    "\n",
    "    #lakukan perulangan jika nilai pos1(index s1) lebih kecil dari panjang s1,\n",
    "    #dan kondisi masih bernilai true:\n",
    "    while pos1 < len(s1) and stillOK: \n",
    "        pos2 = 0 #posisi index awal untuk melakukan perulangan karakter\n",
    "        found = False #untuk mengecek apakah ditemukan karakter yang sama\n",
    "        #lakukan perulangan jika nilai pos2(index s2) lebih kecil dari panjang alist,\n",
    "        #dan belum ditemukan karakter yang sama:\n",
    "        while pos2 < len(alist) and not found:\n",
    "            if s1[pos1] == alist[pos2]: #jika karakter yang terdapat pada pos1 dan pos2 sama, maka:\n",
    "                found = True #ubah nilai found menjadi true\n",
    "            else: #jika tidak ada karakter yang sama, maka:\n",
    "                pos2 = pos2 + 1 #periksa karakter berikutnya\n",
    "                \n",
    "        if found: #jika karakter tersebut cocok, maka:\n",
    "            alist[pos2] = None #ubah karakter pada index tersebut menjadi none (kosong)\n",
    "        else: #jika karakter tersebut tidak cocok maka:\n",
    "            stillOK = False #ubah nilai 'stillOK' menjadi 'false'\n",
    "        \n",
    "        pos1 = pos1 + 1 #tambahkan index pos1 dengan 1 untuk memeriksa index selanjutnya\n",
    "        \n",
    "    return stillOK #nilai akhir stillOK\n",
    "\n",
    "print(anagramSolution1('abcd', 'dcba')) #tampilkan apakah kedua inputan ini adalah anagram\n",
    "print(anagramSolution1('abed', 'abdc')) #tampilkan apakah kedua inputan ini adalah anagram\n",
    "print(anagramSolution1('abed', 'defg')) #tampilkan apakah kedua inputan ini adalah anagram"
   ]
  }
 ],
 "metadata": {
  "kernelspec": {
   "display_name": "Python 3",
   "language": "python",
   "name": "python3"
  },
  "language_info": {
   "codemirror_mode": {
    "name": "ipython",
    "version": 3
   },
   "file_extension": ".py",
   "mimetype": "text/x-python",
   "name": "python",
   "nbconvert_exporter": "python",
   "pygments_lexer": "ipython3",
   "version": "3.11.5"
  }
 },
 "nbformat": 4,
 "nbformat_minor": 2
}
